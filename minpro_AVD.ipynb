{
  "nbformat": 4,
  "nbformat_minor": 0,
  "metadata": {
    "colab": {
      "provenance": []
    },
    "kernelspec": {
      "name": "python3",
      "display_name": "Python 3"
    },
    "language_info": {
      "name": "python"
    }
  },
  "cells": [
    {
      "cell_type": "markdown",
      "source": [
        "# **Business Understanding**"
      ],
      "metadata": {
        "id": "dnxTtUOvVDKF"
      }
    },
    {
      "cell_type": "markdown",
      "source": [
        "# **Business Objective (Tujuan Bisnis)**\n",
        "\n",
        "\n"
      ],
      "metadata": {
        "id": "4vH089JnX0vM"
      }
    },
    {
      "cell_type": "markdown",
      "source": [
        "Tujuan utama proyek ini adalah untuk menganalisis tren dan pola Indeks Massa Tubuh (BMI) anak-anak berdasarkan data dari berbagai rumah sakit. Dengan memahami distribusi BMI berdasarkan tahun ajaran, jenis kelamin, dan lokasi rumah sakit, proyek ini bertujuan untuk mendukung pengambilan keputusan dalam bidang kesehatan masyarakat. Hasil analisis ini dapat membantu pemerintah, rumah sakit, dan organisasi kesehatan dalam merancang program intervensi yang lebih efektif guna mengurangi angka obesitas dan kekurangan gizi pada anak-anak."
      ],
      "metadata": {
        "id": "aHpvKWzQYOz7"
      }
    },
    {
      "cell_type": "markdown",
      "source": [
        "# **Assess Situation (Menilai Situasi)**"
      ],
      "metadata": {
        "id": "oH_ZAghNYUe0"
      }
    },
    {
      "cell_type": "markdown",
      "source": [
        "Situasi bisnis yang mendasari analisis ini adalah meningkatnya perhatian terhadap kesehatan anak-anak, khususnya terkait obesitas dan kekurangan gizi. Data BMI sangat penting dalam mengevaluasi efektivitas kebijakan kesehatan yang telah diterapkan, serta mengidentifikasi kelompok yang rentan terhadap masalah kesehatan."
      ],
      "metadata": {
        "id": "93Jr92mPYe5x"
      }
    },
    {
      "cell_type": "markdown",
      "source": [
        "# **Data Mining Goals (Tujuan Analitik)**"
      ],
      "metadata": {
        "id": "x5fPeztjY0Oh"
      }
    },
    {
      "cell_type": "markdown",
      "source": [
        "\n",
        "\n",
        "1.Menganalisis tren BMI anak-anak dari tahun ke tahun.\n",
        "\n",
        "2.Mengidentifikasi perbedaan distribusi BMI berdasarkan jenis kelamin.\n",
        "\n",
        "3.Menentukan rumah sakit atau wilayah dengan tingkat obesitas atau kekurangan gizi tertinggi.\n",
        "\n",
        "4.Mengevaluasi validitas data dan mengidentifikasi pola dalam data yang tidak valid.\n",
        "\n",
        "5.Memberikan wawasan bagi pemerintah dan organisasi kesehatan dalam merancang strategi intervensi yang lebih efektif.\n",
        "\n"
      ],
      "metadata": {
        "id": "XNiYkF6aZAQn"
      }
    },
    {
      "cell_type": "markdown",
      "source": [
        "# **Project Plan (Perencanaan Proyek)**"
      ],
      "metadata": {
        "id": "PSomvKPyZagG"
      }
    },
    {
      "cell_type": "markdown",
      "source": [
        "1.Pengumpulan dan Pembersihan Data\n",
        "\n",
        "   Memastikan integritas data dan menangani nilai yang hilang atau tidak valid.\n",
        "\n",
        "2.Analisis Eksploratif (EDA)\n",
        "\n",
        "  Membuat visualisasi distribusi BMI berdasarkan tahun ajaran, jenis kelamin, dan rumah sakit.\n",
        "\n",
        "  Mengidentifikasi pola dan tren obesitas serta kekurangan gizi.\n",
        "\n",
        "3.Modeling & Insights\n",
        "\n",
        "Menganalisis hubungan antara jumlah anak dalam setiap kategori BMI dengan faktor-faktor lain dalam dataset.\n",
        "\n",
        "Mengidentifikasi area yang memerlukan intervensi kesehatan lebih lanjut.\n",
        "\n",
        "4.Dokumentasi & Presentasi\n",
        "\n",
        "Menyusun laporan hasil analisis.\n",
        "\n",
        "Menyajikan wawasan dengan visualisasi data yang jelas untuk pemangku kepentingan.\n",
        "\n",
        "\n",
        "\n"
      ],
      "metadata": {
        "id": "MCffolfeZjYQ"
      }
    }
  ]
}